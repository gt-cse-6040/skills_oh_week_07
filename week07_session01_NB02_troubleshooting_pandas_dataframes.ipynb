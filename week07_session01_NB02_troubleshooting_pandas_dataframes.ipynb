{
 "cells": [
  {
   "cell_type": "markdown",
   "id": "2df20b4c",
   "metadata": {},
   "source": [
    "_Main topics covered during today's session:_\n",
    "\n",
    "Previous NB:\n",
    "\n",
    "1. **Pandas Functions:**\n",
    "    \n",
    "    a. Index operations\n",
    "    \n",
    "    b. Concat\n",
    "    \n",
    "    c. Merge\n",
    "    \n",
    "    d. Groupby and Aggregation\n",
    "\n",
    "This NB:\n",
    "\n",
    "2. **Troubleshooting pandas dataframes**"
   ]
  },
  {
   "cell_type": "markdown",
   "id": "b7866d34",
   "metadata": {},
   "source": [
    "*****************************************\n",
    "\n",
    "# Troubleshooting pandas dataframes\n",
    "\n",
    "*****************************************"
   ]
  },
  {
   "cell_type": "markdown",
   "id": "ea5d8b7b",
   "metadata": {},
   "source": [
    "## What we want to do is show some techniques for troubleshooting when our dataframe does not match the solution dataframe. \n",
    "\n",
    "### The pandas dataframe testing in the homework and exam notebooks is typically done with the tibbles_are_equivalent() function, but it can also be done other means.\n",
    "\n",
    "*All of the troubleshooting below applies for troubleshooting dataframes, no matter the test method.*"
   ]
  },
  {
   "cell_type": "markdown",
   "id": "1ae1b5f9",
   "metadata": {},
   "source": [
    "\n",
    "### We have already introduced a notebook for data troubleshooting back in module 1. While our coverage of that notebook focused on the standard Python data objects, it also includes the code for troubleshooting pandas dataframes, so we will reintroduce that notebook, with emphasis the pandas troubleshooting code."
   ]
  },
  {
   "cell_type": "markdown",
   "id": "e2379038",
   "metadata": {},
   "source": [
    "*Steps for today:*\n",
    "\n",
    "1. We have the who3 and who3_soln dataframes, from Notebook 7.\n",
    "\n",
    "2.  We will make a copy of the who3 dataframe and manipulate it a little bit.\n",
    "\n",
    "3.  Also run the function to show that they are equivalent, at the start."
   ]
  },
  {
   "cell_type": "markdown",
   "id": "066065cc",
   "metadata": {},
   "source": [
    "#### First, let's import the pandas library and define the functions.\n",
    "\n",
    "The two functions below, canonicalize_tibble() and tibbles_are_equivalent(), are from the Notebook 7 solution."
   ]
  },
  {
   "cell_type": "code",
   "execution_count": null,
   "id": "2c7f0574",
   "metadata": {},
   "outputs": [],
   "source": [
    "import pandas as pd"
   ]
  },
  {
   "cell_type": "markdown",
   "id": "bd9a1b52",
   "metadata": {},
   "source": [
    "### Remember that `Y` is in canonical order if it has the following properties.\n",
    "\n",
    "1. The variables appear in sorted order by name, ascending from left to right.\n",
    "2. The rows appear in lexicographically sorted order by variable, ascending from top to bottom.\n",
    "3. The row labels (`Y.index`) go from 0 to `n-1`, where `n` is the number of observations."
   ]
  },
  {
   "cell_type": "code",
   "execution_count": null,
   "id": "8af58b2a",
   "metadata": {},
   "outputs": [],
   "source": [
    "def canonicalize_tibble(X):\n",
    "    # Enforce Property 1:\n",
    "    var_names = sorted(X.columns)\n",
    "    Y = X[var_names].copy()\n",
    "\n",
    "    ### BEGIN SOLUTION\n",
    "    # Enforce Property 2:\n",
    "    Y.sort_values(by=var_names, inplace=True)\n",
    "    \n",
    "    # Enforce Property 3:\n",
    "    Y.reset_index(drop=True, inplace=True)\n",
    "#     Y.sort_index(inplace=True)\n",
    "    ### END SOLUTION\n",
    "    return Y"
   ]
  },
  {
   "cell_type": "markdown",
   "id": "0fa26c8a",
   "metadata": {},
   "source": [
    "#### Below are two implementations of the the tibbles_are_equivalent() function.\n",
    "\n",
    "#### The two functions differ slightly in how they evaluate the dataframes, but they reach the same True/False conclusion.\n",
    "\n",
    "1. If the dataframes are equivalent, they will both return True.\n",
    "\n",
    "\n",
    "2. If the dataframes are NOT equivalent, the first function will either error out or return a false value.\n",
    "    \n",
    "    a. If the differences in the df's are related to data type, column name, or size differences, the funcion will error out, with a descriptive error message that you can troubleshoot.\n",
    "    \n",
    "    b. If the differences in the df's are purely because of data value differences, the function will return a False value.\n",
    "\n",
    "\n",
    "3. If the dataframes are NOT equivalent, the second function will return a False value, no matter the reason.\n",
    "\n",
    "\n",
    "4. The first function is the one that will be in notebooks and (potentially) exams. We present the second one as an alternative solution and troubleshooting tool for you. It enables you to run functions later in the notebook, past cells that you know are failing, without having to stop and restart."
   ]
  },
  {
   "cell_type": "code",
   "execution_count": null,
   "id": "9e862330",
   "metadata": {},
   "outputs": [],
   "source": [
    "def tibbles_are_equivalent(A, B):\n",
    "    \"\"\"Given two tidy tables ('tibbles'), returns True iff they are\n",
    "    equivalent.\n",
    "    \"\"\"\n",
    "    ### BEGIN SOLUTION\n",
    "    A_hat = canonicalize_tibble(A)\n",
    "    B_hat = canonicalize_tibble(B)\n",
    "    equal = (A_hat == B_hat)\n",
    "    return equal.all().all()\n",
    "    ### END SOLUTION\n",
    "\n",
    "    \n",
    "def tibbles_are_equivalent_T(A, B):\n",
    "    #Alternative solution\n",
    "    A_copy = A.copy()\n",
    "    B_copy = B.copy()\n",
    "    \n",
    "    \n",
    "    A_canon = canonicalize_tibble(A_copy)\n",
    "    B_canon = canonicalize_tibble(B_copy)\n",
    "    \n",
    "    return A_canon.equals(B_canon)\n",
    "    \n",
    "    "
   ]
  },
  {
   "cell_type": "code",
   "execution_count": null,
   "id": "5dc4a57c",
   "metadata": {},
   "outputs": [],
   "source": [
    "# bring in the two dataframes to work with\n",
    "who3_soln = pd.read_csv('who3_soln.csv')\n",
    "who3 = pd.read_csv('who3.csv')"
   ]
  },
  {
   "cell_type": "markdown",
   "id": "58bfab90",
   "metadata": {},
   "source": [
    "#### Let's show that we have equivalent dataframes to start with."
   ]
  },
  {
   "cell_type": "code",
   "execution_count": null,
   "id": "b914386a",
   "metadata": {},
   "outputs": [],
   "source": [
    "who3_skillsOH = who3.copy()\n",
    "print(who3_skillsOH.head())\n",
    "print(tibbles_are_equivalent(who3_skillsOH, who3_soln))\n",
    "print(tibbles_are_equivalent_T(who3_skillsOH, who3_soln))"
   ]
  },
  {
   "cell_type": "markdown",
   "id": "9edb4f4d",
   "metadata": {},
   "source": [
    "### What are some of the common reasons that the tibbles_are_equivalent() function fails.\n",
    " \n",
    "1. Data types are different (int32 vs int64, for example) -- Use pd.dtypes() function\n",
    "2. Number of rows of data is different -- Use Pandas shape() function\n",
    "3. Column names are different (capital versus small letters, underscore versus dash, etc) -- Use Pandas compare() function\n",
    "4. Actual data is different -- Use Pandas compare() function\n",
    "\n",
    "#### Let's look at each one individually, and how to troubleshoot.\n",
    "\n",
    "#### Remember that the function DOES NOT tell you WHY it failed, only that it failed."
   ]
  },
  {
   "cell_type": "markdown",
   "id": "639f6151",
   "metadata": {},
   "source": [
    "#### First, let's change a datatype or two and see what happens\n",
    "#### Starting with the who3_skillsOH dataframe again\n",
    "https://www.geeksforgeeks.org/get-the-datatypes-of-columns-of-a-pandas-dataframe/"
   ]
  },
  {
   "cell_type": "code",
   "execution_count": null,
   "id": "a529c215",
   "metadata": {},
   "outputs": [],
   "source": [
    "display(who3_skillsOH.dtypes)\n",
    "display(who3_soln.dtypes)"
   ]
  },
  {
   "cell_type": "code",
   "execution_count": null,
   "id": "4883bb16",
   "metadata": {},
   "outputs": [],
   "source": [
    "who3_skillsOH_type = who3_skillsOH.copy()\n",
    "# who3_skillsOH_type[\"count\"] = who3_skillsOH_type[\"count\"].astype(int)  #makes it int32 on my laptop\n",
    "who3_skillsOH_type[\"count\"] = who3_skillsOH_type[\"count\"].astype(\"int64\")\n",
    "\n",
    "print(tibbles_are_equivalent(who3_skillsOH_type,who3_soln))\n",
    "print(tibbles_are_equivalent_T(who3_skillsOH_type,who3_soln))"
   ]
  },
  {
   "cell_type": "code",
   "execution_count": null,
   "id": "e41a9242",
   "metadata": {},
   "outputs": [],
   "source": [
    "display(who3_skillsOH_type.dtypes)\n",
    "display(who3_soln.dtypes)"
   ]
  },
  {
   "cell_type": "markdown",
   "id": "01adac99",
   "metadata": {},
   "source": [
    "#### Do we have the same number of data rows?\n",
    "https://www.geeksforgeeks.org/count-the-number-of-rows-and-columns-of-pandas-dataframe/"
   ]
  },
  {
   "cell_type": "code",
   "execution_count": null,
   "id": "cc533f0e",
   "metadata": {},
   "outputs": [],
   "source": [
    "who3_skillsOH_drop = who3_skillsOH.copy()\n",
    "# Dropping last 10 rows using drop\n",
    "who3_skillsOH_drop.drop(who3_skillsOH_drop.tail(10).index,inplace = True)\n",
    "\n",
    "print(who3_skillsOH_drop.head())\n",
    "print(who3_soln.head())\n",
    "\n",
    "my_list = who3_skillsOH_drop.columns.values.tolist()\n",
    "print(my_list)\n",
    "soln_list = who3_soln.columns.values.tolist()\n",
    "print(soln_list)\n",
    "\n",
    "\n",
    "\n",
    "print(tibbles_are_equivalent_T(who3_skillsOH_drop, who3_soln))\n",
    "# print(tibbles_are_equivalent(who3_skillsOH_drop, who3_soln))  #note that this errors out, as expected"
   ]
  },
  {
   "cell_type": "code",
   "execution_count": null,
   "id": "878baf7d",
   "metadata": {},
   "outputs": [],
   "source": [
    "# # fetching the number of rows and columns\n",
    "rows_OH = who3_skillsOH_drop.shape[0]\n",
    "cols_OH = who3_skillsOH_drop.shape[1]\n",
    "\n",
    "rows_soln = who3_soln.shape[0]\n",
    "cols_soln = who3_soln.shape[1]\n",
    "  \n",
    "# displaying the number of rows and columns\n",
    "print(\"Rows OH: \" + str(rows_OH))\n",
    "print(\"Columns OH: \" + str(cols_OH))\n",
    "print(\"Rows soln: \" + str(rows_soln))\n",
    "print(\"Columns soln: \" + str(cols_soln))"
   ]
  },
  {
   "cell_type": "markdown",
   "id": "35f647bb",
   "metadata": {},
   "source": [
    "#### Now let's look at different column names and data differences.\n",
    "#### A good way to determine differences is to run the Pandas compare() function.\n",
    "https://www.geeksforgeeks.org/how-to-compare-two-dataframes-with-pandas-compare/\n",
    "\n",
    "#### Note that running compare() returns no results when the data frames are identical."
   ]
  },
  {
   "cell_type": "code",
   "execution_count": null,
   "id": "eda5a000",
   "metadata": {},
   "outputs": [],
   "source": [
    "print(\"tibbles result\")\n",
    "print(tibbles_are_equivalent(who3_skillsOH, who3_soln))\n",
    "print(\"\\ncompare result\")\n",
    "who3_soln.compare(who3_skillsOH)  "
   ]
  },
  {
   "cell_type": "code",
   "execution_count": null,
   "id": "64294e26",
   "metadata": {},
   "outputs": [],
   "source": [
    "# # Change a couple of the column names in the new df, just to generate the error.\n",
    "who3_skillsOH_colname = who3_skillsOH.copy()\n",
    "who3_skillsOH_colname.rename(columns = {'country':'Country'}, inplace = True)\n",
    "who3_skillsOH_colname.rename(columns = {'age_group':'age-group'}, inplace = True)\n",
    "print('Troubleshooting function')\n",
    "print(tibbles_are_equivalent_T(who3_skillsOH_colname, who3_soln))\n",
    "print('solution function')\n",
    "# print(tibbles_are_equivalent(who3_skillsOH_colname, who3_soln))  # errors out, as expected"
   ]
  },
  {
   "cell_type": "code",
   "execution_count": null,
   "id": "cc75f179",
   "metadata": {},
   "outputs": [],
   "source": [
    "# # generate an error using compare().\n",
    "# # because the column names are different\n",
    "# who3_soln.compare(who3_skillsOH_colname)  #errors out, uncomment to run"
   ]
  },
  {
   "cell_type": "code",
   "execution_count": null,
   "id": "40a76dba",
   "metadata": {},
   "outputs": [],
   "source": [
    "my_list = who3_skillsOH_colname.columns.values.tolist()\n",
    "print(my_list)\n",
    "soln_list = who3_soln.columns.values.tolist()\n",
    "print(soln_list)"
   ]
  },
  {
   "cell_type": "markdown",
   "id": "1f7d4366",
   "metadata": {},
   "source": [
    "#### Finally, let's see how to determine if there are value differences\n",
    "#### Again, use the Pandas compare() function"
   ]
  },
  {
   "cell_type": "code",
   "execution_count": null,
   "id": "dfde0f8f",
   "metadata": {},
   "outputs": [],
   "source": [
    "# # let's change a few values in our skillsOH dataframe\n",
    "# # Show that the df copy is the same\n",
    "who3_skillsOH_data = who3_skillsOH.copy()\n",
    "tibbles_are_equivalent(who3_skillsOH_data,who3_soln) #to show that they are the same to start with"
   ]
  },
  {
   "cell_type": "code",
   "execution_count": null,
   "id": "0e40cfc4",
   "metadata": {},
   "outputs": [],
   "source": [
    "# # make some data changes\n",
    "who3_skillsOH_data.at[0, 'count'] = 6\n",
    "who3_skillsOH_data.at[1, 'count'] = 2\n",
    "who3_skillsOH_data.at[2, 'year'] = 2011\n",
    "who3_skillsOH_data.at[3, 'year'] = 2012"
   ]
  },
  {
   "cell_type": "code",
   "execution_count": null,
   "id": "cb1a2f4c",
   "metadata": {},
   "outputs": [],
   "source": [
    "print(tibbles_are_equivalent(who3_skillsOH_data,who3_soln))\n",
    "print(tibbles_are_equivalent_T(who3_skillsOH_data,who3_soln))"
   ]
  },
  {
   "cell_type": "code",
   "execution_count": null,
   "id": "0817bb5e",
   "metadata": {},
   "outputs": [],
   "source": [
    "who3_soln.compare(who3_skillsOH_data)\n",
    "# # note that the \"self\" df is the df that we are running compare on\n",
    "# # and the \"other\" df is the one in the parenthesis (we are comparing to)"
   ]
  },
  {
   "cell_type": "code",
   "execution_count": null,
   "id": "6e17fb03",
   "metadata": {},
   "outputs": [],
   "source": [
    "# # align the differences on rows, just a different way of looking at the comparison\n",
    "who3_soln.compare(who3_skillsOH_data,align_axis=0)"
   ]
  },
  {
   "cell_type": "markdown",
   "id": "9b892e8e",
   "metadata": {},
   "source": [
    "### So how to troubleshoot with tibbles_are_equivalent() returns FALSE?\n",
    "#### (Or you are troubleshooting your dataframe against the solution dataframe)\n",
    "\n",
    "#### 1.  Check the data types.\n",
    "#### 2.  Check the number of rows and columns.\n",
    "#### 3.  Run compare() for column name and actual data differences."
   ]
  },
  {
   "cell_type": "code",
   "execution_count": null,
   "id": "9532bfaf",
   "metadata": {},
   "outputs": [],
   "source": []
  },
  {
   "cell_type": "code",
   "execution_count": null,
   "id": "b79749c2",
   "metadata": {},
   "outputs": [],
   "source": []
  }
 ],
 "metadata": {
  "kernelspec": {
   "display_name": "Python 3 (ipykernel)",
   "language": "python",
   "name": "python3"
  },
  "language_info": {
   "codemirror_mode": {
    "name": "ipython",
    "version": 3
   },
   "file_extension": ".py",
   "mimetype": "text/x-python",
   "name": "python",
   "nbconvert_exporter": "python",
   "pygments_lexer": "ipython3",
   "version": "3.9.13"
  }
 },
 "nbformat": 4,
 "nbformat_minor": 5
}
