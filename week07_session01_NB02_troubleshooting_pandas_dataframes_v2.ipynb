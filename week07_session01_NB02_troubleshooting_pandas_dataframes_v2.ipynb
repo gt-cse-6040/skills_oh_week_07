{
 "cells": [
  {
   "cell_type": "markdown",
   "id": "2df20b4c",
   "metadata": {},
   "source": [
    "_Main topics covered during today's session:_\n",
    "\n",
    "Previous NB:\n",
    "\n",
    "1. **Pandas Functions:**\n",
    "    \n",
    "    a. Index operations\n",
    "    \n",
    "    b. Concat\n",
    "    \n",
    "    c. Merge\n",
    "    \n",
    "    d. Groupby and Aggregation\n",
    "\n",
    "This NB:\n",
    "\n",
    "2. **Troubleshooting pandas dataframes**"
   ]
  },
  {
   "cell_type": "markdown",
   "id": "b7866d34",
   "metadata": {},
   "source": [
    "*****************************************\n",
    "\n",
    "# Troubleshooting pandas dataframes\n",
    "\n",
    "*****************************************"
   ]
  },
  {
   "cell_type": "markdown",
   "id": "ea5d8b7b",
   "metadata": {},
   "source": [
    "## What we want to do is show some techniques for troubleshooting when our dataframe does not match the solution dataframe. "
   ]
  },
  {
   "cell_type": "markdown",
   "id": "e2379038",
   "metadata": {},
   "source": [
    "*Steps for today:*\n",
    "\n",
    "1. We have the who3 and who3_soln dataframes, from Notebook 7.\n",
    "\n",
    "2.  We will make a copy of the who3 dataframe and manipulate it a little bit.\n",
    "\n",
    "3.  Also run the function to show that they are equivalent, at the start."
   ]
  },
  {
   "cell_type": "markdown",
   "id": "066065cc",
   "metadata": {},
   "source": [
    "#### First, let's import the pandas library and define the functions.\n",
    "\n",
    "The two functions below, canonicalize_tibble() and tibbles_are_equivalent(), are from the Notebook 7 solution."
   ]
  },
  {
   "cell_type": "code",
   "execution_count": null,
   "id": "2c7f0574",
   "metadata": {},
   "outputs": [],
   "source": [
    "import pandas as pd"
   ]
  },
  {
   "cell_type": "markdown",
   "id": "bd9a1b52",
   "metadata": {},
   "source": [
    "### Remember that `Y` is in canonical order if it has the following properties.\n",
    "\n",
    "1. The variables appear in sorted order by name, ascending from left to right.\n",
    "2. The rows appear in lexicographically sorted order by variable, ascending from top to bottom.\n",
    "3. The row labels (`Y.index`) go from 0 to `n-1`, where `n` is the number of observations."
   ]
  },
  {
   "cell_type": "code",
   "execution_count": null,
   "id": "8af58b2a",
   "metadata": {},
   "outputs": [],
   "source": [
    "def canonicalize_tibble(X):\n",
    "    # Enforce Property 1:\n",
    "    var_names = sorted(X.columns)\n",
    "    Y = X[var_names].copy()\n",
    "\n",
    "    ### BEGIN SOLUTION\n",
    "    # Enforce Property 2:\n",
    "    Y.sort_values(by=var_names, inplace=True)\n",
    "    \n",
    "    # Enforce Property 3:\n",
    "    Y.reset_index(drop=True, inplace=True)\n",
    "#     Y.sort_index(inplace=True)\n",
    "    ### END SOLUTION\n",
    "    return Y"
   ]
  },
  {
   "cell_type": "markdown",
   "id": "0fa26c8a",
   "metadata": {},
   "source": [
    "#### Below is the tibbles_are_equivalent() function. The testing function on the exams is similar to this one.\n",
    "\n",
    "#### However, there is one key difference between the two functions. It is that the testing code uses the Python function assert_frame_equal() to do the comparison. We will show how this works, and how you can use it in your debugging, below.\n",
    "\n",
    "Here is the link to the documentation page for the function:  https://pandas.pydata.org/pandas-docs/stable/reference/api/pandas.testing.assert_frame_equal.html\n"
   ]
  },
  {
   "cell_type": "code",
   "execution_count": null,
   "id": "9e862330",
   "metadata": {},
   "outputs": [],
   "source": [
    "def tibbles_are_equivalent(A, B):\n",
    "    \"\"\"Given two tidy tables ('tibbles'), returns True iff they are\n",
    "    equivalent.\n",
    "    \"\"\"\n",
    "    ### BEGIN SOLUTION\n",
    "    A_hat = canonicalize_tibble(A)\n",
    "    B_hat = canonicalize_tibble(B)\n",
    "    equal = (A_hat == B_hat)\n",
    "    return equal.all().all()\n",
    "    ### END SOLUTION"
   ]
  },
  {
   "cell_type": "code",
   "execution_count": null,
   "id": "5dc4a57c",
   "metadata": {},
   "outputs": [],
   "source": [
    "# bring in the two dataframes to work with\n",
    "who3_soln = pd.read_csv('who3_soln.csv')\n",
    "who3 = pd.read_csv('who3.csv')"
   ]
  },
  {
   "cell_type": "markdown",
   "id": "58bfab90",
   "metadata": {},
   "source": [
    "#### Let's make a copy of our code output df to work with."
   ]
  },
  {
   "cell_type": "code",
   "execution_count": null,
   "id": "b914386a",
   "metadata": {},
   "outputs": [],
   "source": [
    "who3_skillsOH = who3.copy()"
   ]
  },
  {
   "cell_type": "markdown",
   "id": "9edb4f4d",
   "metadata": {},
   "source": [
    "### What are the checks that assert_all_equal() does?\n",
    " \n",
    "1. Checks for data types in the two dfs. \n",
    "2. Checks the number of rows and columns in the two dfs. \n",
    "3. Checks the column names in the two dfs.\n",
    "4. Finally, compares the actual data in the two dfs.\n",
    "\n",
    "#### Let's look at each one individually, and how to troubleshoot.\n",
    "\n",
    "#### You can use this Pandas function to do your testing and troubleshooting, and we provide the code below that you can copy and paste into your notebooks to troubleshoot."
   ]
  },
  {
   "cell_type": "code",
   "execution_count": null,
   "id": "ee5cd82d",
   "metadata": {},
   "outputs": [],
   "source": [
    "def pandas_troubleshoot(a,b):  # pass in the two dfs to compare as variables a and b\n",
    "    from pandas.testing import assert_frame_equal\n",
    "    \n",
    "    def canonicalize_tibble(X, remove_index=True):\n",
    "        var_names = sorted(X.columns)\n",
    "        Y = X[var_names].copy()\n",
    "        Y.sort_values(by=var_names, inplace=remove_index)\n",
    "        Y.reset_index(drop=remove_index, inplace=remove_index)\n",
    "        return Y\n",
    "    \n",
    "    a_hat = canonicalize_tibble(a)\n",
    "    b_hat = canonicalize_tibble(b)\n",
    "    try:\n",
    "        assert_frame_equal(a_hat, b_hat, check_dtype=True,\n",
    "                           check_index_type='equiv', check_column_type='equiv',\n",
    "                           check_frame_type=True, check_names=True, \n",
    "                           by_blocks=False, check_exact=False, \n",
    "                           check_datetimelike_compat=False, \n",
    "                           check_categorical=True, check_like=False,\n",
    "                           check_freq=True, check_flags=True,\n",
    "                           rtol=1e-05, atol=1e-08, obj='DataFrame')\n",
    "        print('True')\n",
    "        return True\n",
    "    except AssertionError as e:\n",
    "        print(e)\n",
    "        return e"
   ]
  },
  {
   "cell_type": "markdown",
   "id": "639f6151",
   "metadata": {},
   "source": [
    "### We will now set up 4 dataframes, that exercise the 4 types of tests that assert_all_equal() does. The changed dataframes will all be named for the type of change/test we are exercising.\n",
    "\n",
    "#### What we will do is change each df and run some code that shows you how to do individual checks for this test.\n",
    "\n",
    "#### Then we will show how you can do this using the assert_all_equal() function, and let it tell you what has failed."
   ]
  },
  {
   "cell_type": "markdown",
   "id": "8a69d12c",
   "metadata": {},
   "source": [
    "#### First, we will change a datatype. \n",
    "\n",
    "https://www.geeksforgeeks.org/get-the-datatypes-of-columns-of-a-pandas-dataframe/"
   ]
  },
  {
   "cell_type": "code",
   "execution_count": null,
   "id": "4883bb16",
   "metadata": {},
   "outputs": [],
   "source": [
    "who3_skillsOH_type = who3_skillsOH.copy()\n",
    "who3_skillsOH_type[\"count\"] = who3_skillsOH_type[\"count\"].astype(float)  "
   ]
  },
  {
   "cell_type": "code",
   "execution_count": null,
   "id": "e41a9242",
   "metadata": {},
   "outputs": [],
   "source": [
    "display(who3_skillsOH_type.dtypes)\n",
    "display(who3_soln.dtypes)"
   ]
  },
  {
   "cell_type": "markdown",
   "id": "01adac99",
   "metadata": {},
   "source": [
    "#### Second, we change the number of rows in the dataframe.\n",
    "https://www.geeksforgeeks.org/count-the-number-of-rows-and-columns-of-pandas-dataframe/"
   ]
  },
  {
   "cell_type": "code",
   "execution_count": null,
   "id": "cc533f0e",
   "metadata": {},
   "outputs": [],
   "source": [
    "who3_skillsOH_drop = who3_skillsOH.copy()\n",
    "# Dropping last 10 rows using drop\n",
    "who3_skillsOH_drop.drop(who3_skillsOH_drop.tail(10).index,inplace = True)\n",
    "\n",
    "#note that printing the head() of the df does not tell you there is an error\n",
    "print(who3_skillsOH_drop.head())\n",
    "print(who3_soln.head())"
   ]
  },
  {
   "cell_type": "code",
   "execution_count": null,
   "id": "878baf7d",
   "metadata": {},
   "outputs": [],
   "source": [
    "# # fetching the number of rows and columns\n",
    "rows_OH = who3_skillsOH_drop.shape[0]\n",
    "cols_OH = who3_skillsOH_drop.shape[1]\n",
    "\n",
    "rows_soln = who3_soln.shape[0]\n",
    "cols_soln = who3_soln.shape[1]\n",
    "  \n",
    "# displaying the number of rows and columns\n",
    "print(\"Rows OH: \" + str(rows_OH))\n",
    "print(\"Columns OH: \" + str(cols_OH))\n",
    "print(\"Rows soln: \" + str(rows_soln))\n",
    "print(\"Columns soln: \" + str(cols_soln))"
   ]
  },
  {
   "cell_type": "markdown",
   "id": "35f647bb",
   "metadata": {},
   "source": [
    "#### Third, we will change a couple of column names."
   ]
  },
  {
   "cell_type": "code",
   "execution_count": null,
   "id": "64294e26",
   "metadata": {},
   "outputs": [],
   "source": [
    "# # Change a couple of the column names in the new df, just to generate the error.\n",
    "who3_skillsOH_colname = who3_skillsOH.copy()\n",
    "who3_skillsOH_colname.rename(columns = {'country':'Country'}, inplace = True)\n",
    "who3_skillsOH_colname.rename(columns = {'age_group':'age-group'}, inplace = True)"
   ]
  },
  {
   "cell_type": "code",
   "execution_count": null,
   "id": "40a76dba",
   "metadata": {},
   "outputs": [],
   "source": [
    "my_list = who3_skillsOH_colname.columns.values.tolist()\n",
    "soln_list = who3_soln.columns.values.tolist()\n",
    "\n",
    "for i,col_name in enumerate(my_list):\n",
    "    if col_name != soln_list[i]:\n",
    "        print('Column names do not match')\n",
    "        print('My column name: ', col_name)\n",
    "        print('Soln column nm: ', soln_list[i])"
   ]
  },
  {
   "cell_type": "markdown",
   "id": "1f7d4366",
   "metadata": {},
   "source": [
    "#### Finally, let's change some values in the df."
   ]
  },
  {
   "cell_type": "code",
   "execution_count": null,
   "id": "dfde0f8f",
   "metadata": {},
   "outputs": [],
   "source": [
    "# # let's change a few values in our skillsOH dataframe\n",
    "who3_skillsOH_data = who3_skillsOH.copy()\n",
    "# # make some data changes\n",
    "who3_skillsOH_data.at[0, 'count'] = 6\n",
    "who3_skillsOH_data.at[1, 'count'] = 2\n",
    "who3_skillsOH_data.at[2, 'year'] = 2011\n",
    "who3_skillsOH_data.at[3, 'year'] = 2012"
   ]
  },
  {
   "cell_type": "code",
   "execution_count": null,
   "id": "0817bb5e",
   "metadata": {},
   "outputs": [],
   "source": [
    "# # note that the \"self\" df is the df that we are running compare on\n",
    "# # and the \"other\" df is the one in the parenthesis (we are comparing to)\n",
    "display(who3_soln.compare(who3_skillsOH_data))\n",
    "\n",
    "# # align the differences on rows, just a different way of looking at the comparison\n",
    "display(who3_soln.compare(who3_skillsOH_data,align_axis=0))"
   ]
  },
  {
   "cell_type": "markdown",
   "id": "130c88c6",
   "metadata": {},
   "source": [
    "### Now let's use our pandas_troubleshoot() function to figure out what the error is."
   ]
  },
  {
   "cell_type": "code",
   "execution_count": null,
   "id": "1b5d24ce",
   "metadata": {},
   "outputs": [],
   "source": [
    "a,b = who3_skillsOH_type,who3_soln   # data type differences of columns\n",
    "result = pandas_troubleshoot(a,b)\n",
    "result"
   ]
  },
  {
   "cell_type": "code",
   "execution_count": null,
   "id": "27f83c0f",
   "metadata": {},
   "outputs": [],
   "source": [
    "a,b = who3_skillsOH_colname,who3_soln   # column names different\n",
    "result = pandas_troubleshoot(a,b)\n",
    "result"
   ]
  },
  {
   "cell_type": "code",
   "execution_count": null,
   "id": "8bac7cf6",
   "metadata": {},
   "outputs": [],
   "source": [
    "a,b = who3_skillsOH_drop,who3_soln   # differences in the number of rows of data\n",
    "result = pandas_troubleshoot(a,b)\n",
    "result"
   ]
  },
  {
   "cell_type": "code",
   "execution_count": null,
   "id": "b026583c",
   "metadata": {},
   "outputs": [],
   "source": [
    "a,b = who3_skillsOH_data,who3_soln   # data differences\n",
    "result = pandas_troubleshoot(a,b)\n",
    "result\n",
    "\n",
    "# Notice that we changed \"count\" and \"year\" above, but the error only returns for \"count\".\n",
    "# The function returns the first column with errors, and you may need to run this multiple\n",
    "# times, if you have multiple columns with data errors."
   ]
  },
  {
   "cell_type": "code",
   "execution_count": null,
   "id": "7012b4c1",
   "metadata": {},
   "outputs": [],
   "source": []
  },
  {
   "cell_type": "code",
   "execution_count": null,
   "id": "b30faa23",
   "metadata": {},
   "outputs": [],
   "source": []
  },
  {
   "cell_type": "code",
   "execution_count": null,
   "id": "b4e3a9d4",
   "metadata": {},
   "outputs": [],
   "source": []
  }
 ],
 "metadata": {
  "kernelspec": {
   "display_name": "Python 3 (ipykernel)",
   "language": "python",
   "name": "python3"
  },
  "language_info": {
   "codemirror_mode": {
    "name": "ipython",
    "version": 3
   },
   "file_extension": ".py",
   "mimetype": "text/x-python",
   "name": "python",
   "nbconvert_exporter": "python",
   "pygments_lexer": "ipython3",
   "version": "3.9.13"
  }
 },
 "nbformat": 4,
 "nbformat_minor": 5
}
